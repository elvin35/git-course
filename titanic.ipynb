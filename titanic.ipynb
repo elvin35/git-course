{
 "cells": [
  {
   "cell_type": "code",
   "execution_count": 141,
   "id": "1963775c",
   "metadata": {},
   "outputs": [],
   "source": [
    "import numpy as np\n",
    "import pandas as pd\n",
    "import matplotlib.pyplot as plt\n",
    "import seaborn as sns\n"
   ]
  },
  {
   "cell_type": "code",
   "execution_count": 86,
   "id": "4ab82ec5",
   "metadata": {},
   "outputs": [],
   "source": [
    "df = pd.read_csv(r'train.csv')"
   ]
  },
  {
   "cell_type": "code",
   "execution_count": 87,
   "id": "2d5f68d4",
   "metadata": {},
   "outputs": [
    {
     "data": {
      "text/html": [
       "<div>\n",
       "<style scoped>\n",
       "    .dataframe tbody tr th:only-of-type {\n",
       "        vertical-align: middle;\n",
       "    }\n",
       "\n",
       "    .dataframe tbody tr th {\n",
       "        vertical-align: top;\n",
       "    }\n",
       "\n",
       "    .dataframe thead th {\n",
       "        text-align: right;\n",
       "    }\n",
       "</style>\n",
       "<table border=\"1\" class=\"dataframe\">\n",
       "  <thead>\n",
       "    <tr style=\"text-align: right;\">\n",
       "      <th></th>\n",
       "      <th>PassengerId</th>\n",
       "      <th>Survived</th>\n",
       "      <th>Pclass</th>\n",
       "      <th>Name</th>\n",
       "      <th>Sex</th>\n",
       "      <th>Age</th>\n",
       "      <th>SibSp</th>\n",
       "      <th>Parch</th>\n",
       "      <th>Ticket</th>\n",
       "      <th>Fare</th>\n",
       "      <th>Cabin</th>\n",
       "      <th>Embarked</th>\n",
       "    </tr>\n",
       "  </thead>\n",
       "  <tbody>\n",
       "    <tr>\n",
       "      <th>0</th>\n",
       "      <td>1</td>\n",
       "      <td>0</td>\n",
       "      <td>3</td>\n",
       "      <td>Braund, Mr. Owen Harris</td>\n",
       "      <td>male</td>\n",
       "      <td>22.0</td>\n",
       "      <td>1</td>\n",
       "      <td>0</td>\n",
       "      <td>A/5 21171</td>\n",
       "      <td>7.2500</td>\n",
       "      <td>NaN</td>\n",
       "      <td>S</td>\n",
       "    </tr>\n",
       "    <tr>\n",
       "      <th>1</th>\n",
       "      <td>2</td>\n",
       "      <td>1</td>\n",
       "      <td>1</td>\n",
       "      <td>Cumings, Mrs. John Bradley (Florence Briggs Th...</td>\n",
       "      <td>female</td>\n",
       "      <td>38.0</td>\n",
       "      <td>1</td>\n",
       "      <td>0</td>\n",
       "      <td>PC 17599</td>\n",
       "      <td>71.2833</td>\n",
       "      <td>C85</td>\n",
       "      <td>C</td>\n",
       "    </tr>\n",
       "    <tr>\n",
       "      <th>2</th>\n",
       "      <td>3</td>\n",
       "      <td>1</td>\n",
       "      <td>3</td>\n",
       "      <td>Heikkinen, Miss. Laina</td>\n",
       "      <td>female</td>\n",
       "      <td>26.0</td>\n",
       "      <td>0</td>\n",
       "      <td>0</td>\n",
       "      <td>STON/O2. 3101282</td>\n",
       "      <td>7.9250</td>\n",
       "      <td>NaN</td>\n",
       "      <td>S</td>\n",
       "    </tr>\n",
       "    <tr>\n",
       "      <th>3</th>\n",
       "      <td>4</td>\n",
       "      <td>1</td>\n",
       "      <td>1</td>\n",
       "      <td>Futrelle, Mrs. Jacques Heath (Lily May Peel)</td>\n",
       "      <td>female</td>\n",
       "      <td>35.0</td>\n",
       "      <td>1</td>\n",
       "      <td>0</td>\n",
       "      <td>113803</td>\n",
       "      <td>53.1000</td>\n",
       "      <td>C123</td>\n",
       "      <td>S</td>\n",
       "    </tr>\n",
       "    <tr>\n",
       "      <th>4</th>\n",
       "      <td>5</td>\n",
       "      <td>0</td>\n",
       "      <td>3</td>\n",
       "      <td>Allen, Mr. William Henry</td>\n",
       "      <td>male</td>\n",
       "      <td>35.0</td>\n",
       "      <td>0</td>\n",
       "      <td>0</td>\n",
       "      <td>373450</td>\n",
       "      <td>8.0500</td>\n",
       "      <td>NaN</td>\n",
       "      <td>S</td>\n",
       "    </tr>\n",
       "  </tbody>\n",
       "</table>\n",
       "</div>"
      ],
      "text/plain": [
       "   PassengerId  Survived  Pclass  \\\n",
       "0            1         0       3   \n",
       "1            2         1       1   \n",
       "2            3         1       3   \n",
       "3            4         1       1   \n",
       "4            5         0       3   \n",
       "\n",
       "                                                Name     Sex   Age  SibSp  \\\n",
       "0                            Braund, Mr. Owen Harris    male  22.0      1   \n",
       "1  Cumings, Mrs. John Bradley (Florence Briggs Th...  female  38.0      1   \n",
       "2                             Heikkinen, Miss. Laina  female  26.0      0   \n",
       "3       Futrelle, Mrs. Jacques Heath (Lily May Peel)  female  35.0      1   \n",
       "4                           Allen, Mr. William Henry    male  35.0      0   \n",
       "\n",
       "   Parch            Ticket     Fare Cabin Embarked  \n",
       "0      0         A/5 21171   7.2500   NaN        S  \n",
       "1      0          PC 17599  71.2833   C85        C  \n",
       "2      0  STON/O2. 3101282   7.9250   NaN        S  \n",
       "3      0            113803  53.1000  C123        S  \n",
       "4      0            373450   8.0500   NaN        S  "
      ]
     },
     "execution_count": 87,
     "metadata": {},
     "output_type": "execute_result"
    }
   ],
   "source": [
    "df.head()"
   ]
  },
  {
   "cell_type": "code",
   "execution_count": 5,
   "id": "beaf4b14",
   "metadata": {},
   "outputs": [
    {
     "data": {
      "text/plain": [
       "(891, 12)"
      ]
     },
     "execution_count": 5,
     "metadata": {},
     "output_type": "execute_result"
    }
   ],
   "source": [
    "df.shape\n"
   ]
  },
  {
   "cell_type": "code",
   "execution_count": 88,
   "id": "922f6f29",
   "metadata": {},
   "outputs": [
    {
     "name": "stdout",
     "output_type": "stream",
     "text": [
      "<class 'pandas.core.frame.DataFrame'>\n",
      "RangeIndex: 891 entries, 0 to 890\n",
      "Data columns (total 12 columns):\n",
      " #   Column       Non-Null Count  Dtype  \n",
      "---  ------       --------------  -----  \n",
      " 0   PassengerId  891 non-null    int64  \n",
      " 1   Survived     891 non-null    int64  \n",
      " 2   Pclass       891 non-null    int64  \n",
      " 3   Name         891 non-null    object \n",
      " 4   Sex          891 non-null    object \n",
      " 5   Age          714 non-null    float64\n",
      " 6   SibSp        891 non-null    int64  \n",
      " 7   Parch        891 non-null    int64  \n",
      " 8   Ticket       891 non-null    object \n",
      " 9   Fare         891 non-null    float64\n",
      " 10  Cabin        204 non-null    object \n",
      " 11  Embarked     889 non-null    object \n",
      "dtypes: float64(2), int64(5), object(5)\n",
      "memory usage: 83.7+ KB\n"
     ]
    }
   ],
   "source": [
    "df.info()"
   ]
  },
  {
   "cell_type": "code",
   "execution_count": 93,
   "id": "10b297c2",
   "metadata": {},
   "outputs": [
    {
     "data": {
      "text/plain": [
       "PassengerId      0\n",
       "Survived         0\n",
       "Pclass           0\n",
       "Name             0\n",
       "Sex              0\n",
       "Age            177\n",
       "SibSp            0\n",
       "Parch            0\n",
       "Ticket           0\n",
       "Fare             0\n",
       "Cabin          687\n",
       "Embarked         0\n",
       "dtype: int64"
      ]
     },
     "execution_count": 93,
     "metadata": {},
     "output_type": "execute_result"
    }
   ],
   "source": [
    "df.isnull().sum()"
   ]
  },
  {
   "cell_type": "code",
   "execution_count": 10,
   "id": "5df44c9c",
   "metadata": {},
   "outputs": [
    {
     "data": {
      "text/plain": [
       "array(['S', 'C', 'Q', nan], dtype=object)"
      ]
     },
     "execution_count": 10,
     "metadata": {},
     "output_type": "execute_result"
    }
   ],
   "source": [
    "df.Embarked.unique()"
   ]
  },
  {
   "cell_type": "code",
   "execution_count": 28,
   "id": "1ee7ab99",
   "metadata": {
    "scrolled": true
   },
   "outputs": [
    {
     "data": {
      "text/html": [
       "<div>\n",
       "<style scoped>\n",
       "    .dataframe tbody tr th:only-of-type {\n",
       "        vertical-align: middle;\n",
       "    }\n",
       "\n",
       "    .dataframe tbody tr th {\n",
       "        vertical-align: top;\n",
       "    }\n",
       "\n",
       "    .dataframe thead th {\n",
       "        text-align: right;\n",
       "    }\n",
       "</style>\n",
       "<table border=\"1\" class=\"dataframe\">\n",
       "  <thead>\n",
       "    <tr style=\"text-align: right;\">\n",
       "      <th></th>\n",
       "      <th>PassengerId</th>\n",
       "      <th>Survived</th>\n",
       "      <th>Pclass</th>\n",
       "      <th>Name</th>\n",
       "      <th>Sex</th>\n",
       "      <th>Age</th>\n",
       "      <th>SibSp</th>\n",
       "      <th>Parch</th>\n",
       "      <th>Ticket</th>\n",
       "      <th>Fare</th>\n",
       "      <th>Cabin</th>\n",
       "      <th>Embarked</th>\n",
       "    </tr>\n",
       "  </thead>\n",
       "  <tbody>\n",
       "    <tr>\n",
       "      <th>61</th>\n",
       "      <td>62</td>\n",
       "      <td>1</td>\n",
       "      <td>1</td>\n",
       "      <td>Icard, Miss. Amelie</td>\n",
       "      <td>female</td>\n",
       "      <td>38.0</td>\n",
       "      <td>0</td>\n",
       "      <td>0</td>\n",
       "      <td>113572</td>\n",
       "      <td>80.0</td>\n",
       "      <td>B28</td>\n",
       "      <td>NaN</td>\n",
       "    </tr>\n",
       "    <tr>\n",
       "      <th>829</th>\n",
       "      <td>830</td>\n",
       "      <td>1</td>\n",
       "      <td>1</td>\n",
       "      <td>Stone, Mrs. George Nelson (Martha Evelyn)</td>\n",
       "      <td>female</td>\n",
       "      <td>62.0</td>\n",
       "      <td>0</td>\n",
       "      <td>0</td>\n",
       "      <td>113572</td>\n",
       "      <td>80.0</td>\n",
       "      <td>B28</td>\n",
       "      <td>NaN</td>\n",
       "    </tr>\n",
       "  </tbody>\n",
       "</table>\n",
       "</div>"
      ],
      "text/plain": [
       "     PassengerId  Survived  Pclass                                       Name  \\\n",
       "61            62         1       1                        Icard, Miss. Amelie   \n",
       "829          830         1       1  Stone, Mrs. George Nelson (Martha Evelyn)   \n",
       "\n",
       "        Sex   Age  SibSp  Parch  Ticket  Fare Cabin Embarked  \n",
       "61   female  38.0      0      0  113572  80.0   B28      NaN  \n",
       "829  female  62.0      0      0  113572  80.0   B28      NaN  "
      ]
     },
     "execution_count": 28,
     "metadata": {},
     "output_type": "execute_result"
    }
   ],
   "source": [
    "df[df.Embarked.isnull()]"
   ]
  },
  {
   "cell_type": "code",
   "execution_count": 92,
   "id": "d3aa4687",
   "metadata": {},
   "outputs": [],
   "source": [
    "df.dropna(subset=['Embarked'], inplace=True)"
   ]
  },
  {
   "cell_type": "code",
   "execution_count": 38,
   "id": "91395660",
   "metadata": {},
   "outputs": [
    {
     "data": {
      "text/plain": [
       "PassengerId      0\n",
       "Survived         0\n",
       "Pclass           0\n",
       "Name             0\n",
       "Sex              0\n",
       "Age            177\n",
       "SibSp            0\n",
       "Parch            0\n",
       "Ticket           0\n",
       "Fare             0\n",
       "Cabin          687\n",
       "Embarked         0\n",
       "dtype: int64"
      ]
     },
     "execution_count": 38,
     "metadata": {},
     "output_type": "execute_result"
    }
   ],
   "source": []
  },
  {
   "cell_type": "code",
   "execution_count": 43,
   "id": "67c87ebc",
   "metadata": {},
   "outputs": [
    {
     "data": {
      "text/plain": [
       "Sex\n",
       "female    27.745174\n",
       "male      30.726645\n",
       "Name: Age, dtype: float64"
      ]
     },
     "execution_count": 43,
     "metadata": {},
     "output_type": "execute_result"
    }
   ],
   "source": [
    "df.groupby('Sex').Age.mean()"
   ]
  },
  {
   "cell_type": "code",
   "execution_count": 122,
   "id": "9ffeccfb",
   "metadata": {},
   "outputs": [],
   "source": [
    "df1 = df.query('Sex == \"male\"').fillna(30.7)"
   ]
  },
  {
   "cell_type": "code",
   "execution_count": 107,
   "id": "24db176f",
   "metadata": {},
   "outputs": [],
   "source": []
  },
  {
   "cell_type": "code",
   "execution_count": 120,
   "id": "b1b85265",
   "metadata": {},
   "outputs": [
    {
     "data": {
      "text/plain": [
       "PassengerId      0\n",
       "Survived         0\n",
       "Pclass           0\n",
       "Name             0\n",
       "Sex              0\n",
       "Age            177\n",
       "SibSp            0\n",
       "Parch            0\n",
       "Ticket           0\n",
       "Fare             0\n",
       "Cabin          687\n",
       "Embarked         0\n",
       "dtype: int64"
      ]
     },
     "execution_count": 120,
     "metadata": {},
     "output_type": "execute_result"
    }
   ],
   "source": [
    "df.isnull().sum()"
   ]
  },
  {
   "cell_type": "code",
   "execution_count": 129,
   "id": "a887a6b1",
   "metadata": {},
   "outputs": [],
   "source": [
    "df2 = df.query('Sex == \"female\"').fillna(27.8)"
   ]
  },
  {
   "cell_type": "code",
   "execution_count": 131,
   "id": "2a643c89",
   "metadata": {},
   "outputs": [
    {
     "data": {
      "text/plain": [
       "(312, 12)"
      ]
     },
     "execution_count": 131,
     "metadata": {},
     "output_type": "execute_result"
    }
   ],
   "source": [
    "df2.shape"
   ]
  },
  {
   "cell_type": "code",
   "execution_count": 132,
   "id": "4d867a69",
   "metadata": {},
   "outputs": [
    {
     "data": {
      "text/plain": [
       "(889, 12)"
      ]
     },
     "execution_count": 132,
     "metadata": {},
     "output_type": "execute_result"
    }
   ],
   "source": [
    "df.shape"
   ]
  },
  {
   "cell_type": "code",
   "execution_count": 155,
   "id": "9c791e82",
   "metadata": {},
   "outputs": [],
   "source": [
    "df = df1.merge(df2,how='outer')"
   ]
  },
  {
   "cell_type": "code",
   "execution_count": null,
   "id": "8a6062fe",
   "metadata": {},
   "outputs": [],
   "source": []
  },
  {
   "cell_type": "code",
   "execution_count": 140,
   "id": "cba81cbd",
   "metadata": {},
   "outputs": [
    {
     "data": {
      "text/plain": [
       "Sex\n",
       "female    27.754487\n",
       "male      30.720919\n",
       "Name: Age, dtype: float64"
      ]
     },
     "execution_count": 140,
     "metadata": {},
     "output_type": "execute_result"
    }
   ],
   "source": [
    "df.groupby('Sex').Age.mean()"
   ]
  },
  {
   "cell_type": "markdown",
   "id": "50f94c59",
   "metadata": {},
   "source": []
  },
  {
   "cell_type": "code",
   "execution_count": 149,
   "id": "0d27570b",
   "metadata": {},
   "outputs": [
    {
     "data": {
      "text/html": [
       "<div>\n",
       "<style scoped>\n",
       "    .dataframe tbody tr th:only-of-type {\n",
       "        vertical-align: middle;\n",
       "    }\n",
       "\n",
       "    .dataframe tbody tr th {\n",
       "        vertical-align: top;\n",
       "    }\n",
       "\n",
       "    .dataframe thead th {\n",
       "        text-align: right;\n",
       "    }\n",
       "</style>\n",
       "<table border=\"1\" class=\"dataframe\">\n",
       "  <thead>\n",
       "    <tr style=\"text-align: right;\">\n",
       "      <th></th>\n",
       "      <th>PassengerId</th>\n",
       "      <th>Survived</th>\n",
       "      <th>Pclass</th>\n",
       "      <th>Name</th>\n",
       "      <th>Sex</th>\n",
       "      <th>Age</th>\n",
       "      <th>SibSp</th>\n",
       "      <th>Parch</th>\n",
       "      <th>Ticket</th>\n",
       "      <th>Fare</th>\n",
       "      <th>Cabin</th>\n",
       "      <th>Embarked</th>\n",
       "    </tr>\n",
       "  </thead>\n",
       "  <tbody>\n",
       "    <tr>\n",
       "      <th>0</th>\n",
       "      <td>1</td>\n",
       "      <td>0</td>\n",
       "      <td>3</td>\n",
       "      <td>Braund, Mr. Owen Harris</td>\n",
       "      <td>male</td>\n",
       "      <td>22.0</td>\n",
       "      <td>1</td>\n",
       "      <td>0</td>\n",
       "      <td>A/5 21171</td>\n",
       "      <td>7.2500</td>\n",
       "      <td>30.7</td>\n",
       "      <td>S</td>\n",
       "    </tr>\n",
       "    <tr>\n",
       "      <th>1</th>\n",
       "      <td>5</td>\n",
       "      <td>0</td>\n",
       "      <td>3</td>\n",
       "      <td>Allen, Mr. William Henry</td>\n",
       "      <td>male</td>\n",
       "      <td>35.0</td>\n",
       "      <td>0</td>\n",
       "      <td>0</td>\n",
       "      <td>373450</td>\n",
       "      <td>8.0500</td>\n",
       "      <td>30.7</td>\n",
       "      <td>S</td>\n",
       "    </tr>\n",
       "    <tr>\n",
       "      <th>2</th>\n",
       "      <td>6</td>\n",
       "      <td>0</td>\n",
       "      <td>3</td>\n",
       "      <td>Moran, Mr. James</td>\n",
       "      <td>male</td>\n",
       "      <td>30.7</td>\n",
       "      <td>0</td>\n",
       "      <td>0</td>\n",
       "      <td>330877</td>\n",
       "      <td>8.4583</td>\n",
       "      <td>30.7</td>\n",
       "      <td>Q</td>\n",
       "    </tr>\n",
       "    <tr>\n",
       "      <th>3</th>\n",
       "      <td>7</td>\n",
       "      <td>0</td>\n",
       "      <td>1</td>\n",
       "      <td>McCarthy, Mr. Timothy J</td>\n",
       "      <td>male</td>\n",
       "      <td>54.0</td>\n",
       "      <td>0</td>\n",
       "      <td>0</td>\n",
       "      <td>17463</td>\n",
       "      <td>51.8625</td>\n",
       "      <td>E46</td>\n",
       "      <td>S</td>\n",
       "    </tr>\n",
       "    <tr>\n",
       "      <th>4</th>\n",
       "      <td>8</td>\n",
       "      <td>0</td>\n",
       "      <td>3</td>\n",
       "      <td>Palsson, Master. Gosta Leonard</td>\n",
       "      <td>male</td>\n",
       "      <td>2.0</td>\n",
       "      <td>3</td>\n",
       "      <td>1</td>\n",
       "      <td>349909</td>\n",
       "      <td>21.0750</td>\n",
       "      <td>30.7</td>\n",
       "      <td>S</td>\n",
       "    </tr>\n",
       "  </tbody>\n",
       "</table>\n",
       "</div>"
      ],
      "text/plain": [
       "   PassengerId  Survived  Pclass                            Name   Sex   Age  \\\n",
       "0            1         0       3         Braund, Mr. Owen Harris  male  22.0   \n",
       "1            5         0       3        Allen, Mr. William Henry  male  35.0   \n",
       "2            6         0       3                Moran, Mr. James  male  30.7   \n",
       "3            7         0       1         McCarthy, Mr. Timothy J  male  54.0   \n",
       "4            8         0       3  Palsson, Master. Gosta Leonard  male   2.0   \n",
       "\n",
       "   SibSp  Parch     Ticket     Fare Cabin Embarked  \n",
       "0      1      0  A/5 21171   7.2500  30.7        S  \n",
       "1      0      0     373450   8.0500  30.7        S  \n",
       "2      0      0     330877   8.4583  30.7        Q  \n",
       "3      0      0      17463  51.8625   E46        S  \n",
       "4      3      1     349909  21.0750  30.7        S  "
      ]
     },
     "execution_count": 149,
     "metadata": {},
     "output_type": "execute_result"
    }
   ],
   "source": [
    "df.head()"
   ]
  },
  {
   "cell_type": "code",
   "execution_count": 153,
   "id": "3b6eabb2",
   "metadata": {},
   "outputs": [],
   "source": []
  },
  {
   "cell_type": "code",
   "execution_count": 156,
   "id": "658a901a",
   "metadata": {},
   "outputs": [
    {
     "data": {
      "text/html": [
       "<div>\n",
       "<style scoped>\n",
       "    .dataframe tbody tr th:only-of-type {\n",
       "        vertical-align: middle;\n",
       "    }\n",
       "\n",
       "    .dataframe tbody tr th {\n",
       "        vertical-align: top;\n",
       "    }\n",
       "\n",
       "    .dataframe thead th {\n",
       "        text-align: right;\n",
       "    }\n",
       "</style>\n",
       "<table border=\"1\" class=\"dataframe\">\n",
       "  <thead>\n",
       "    <tr style=\"text-align: right;\">\n",
       "      <th></th>\n",
       "      <th>PassengerId</th>\n",
       "      <th>Survived</th>\n",
       "      <th>Pclass</th>\n",
       "      <th>Name</th>\n",
       "      <th>Sex</th>\n",
       "      <th>Age</th>\n",
       "      <th>SibSp</th>\n",
       "      <th>Parch</th>\n",
       "      <th>Ticket</th>\n",
       "      <th>Fare</th>\n",
       "      <th>Cabin</th>\n",
       "      <th>Embarked</th>\n",
       "    </tr>\n",
       "  </thead>\n",
       "  <tbody>\n",
       "    <tr>\n",
       "      <th>0</th>\n",
       "      <td>1</td>\n",
       "      <td>0</td>\n",
       "      <td>3</td>\n",
       "      <td>Braund, Mr. Owen Harris</td>\n",
       "      <td>male</td>\n",
       "      <td>22.0</td>\n",
       "      <td>1</td>\n",
       "      <td>0</td>\n",
       "      <td>A/5 21171</td>\n",
       "      <td>7.2500</td>\n",
       "      <td>30.7</td>\n",
       "      <td>S</td>\n",
       "    </tr>\n",
       "    <tr>\n",
       "      <th>1</th>\n",
       "      <td>5</td>\n",
       "      <td>0</td>\n",
       "      <td>3</td>\n",
       "      <td>Allen, Mr. William Henry</td>\n",
       "      <td>male</td>\n",
       "      <td>35.0</td>\n",
       "      <td>0</td>\n",
       "      <td>0</td>\n",
       "      <td>373450</td>\n",
       "      <td>8.0500</td>\n",
       "      <td>30.7</td>\n",
       "      <td>S</td>\n",
       "    </tr>\n",
       "    <tr>\n",
       "      <th>2</th>\n",
       "      <td>6</td>\n",
       "      <td>0</td>\n",
       "      <td>3</td>\n",
       "      <td>Moran, Mr. James</td>\n",
       "      <td>male</td>\n",
       "      <td>30.7</td>\n",
       "      <td>0</td>\n",
       "      <td>0</td>\n",
       "      <td>330877</td>\n",
       "      <td>8.4583</td>\n",
       "      <td>30.7</td>\n",
       "      <td>Q</td>\n",
       "    </tr>\n",
       "    <tr>\n",
       "      <th>3</th>\n",
       "      <td>7</td>\n",
       "      <td>0</td>\n",
       "      <td>1</td>\n",
       "      <td>McCarthy, Mr. Timothy J</td>\n",
       "      <td>male</td>\n",
       "      <td>54.0</td>\n",
       "      <td>0</td>\n",
       "      <td>0</td>\n",
       "      <td>17463</td>\n",
       "      <td>51.8625</td>\n",
       "      <td>E46</td>\n",
       "      <td>S</td>\n",
       "    </tr>\n",
       "    <tr>\n",
       "      <th>4</th>\n",
       "      <td>8</td>\n",
       "      <td>0</td>\n",
       "      <td>3</td>\n",
       "      <td>Palsson, Master. Gosta Leonard</td>\n",
       "      <td>male</td>\n",
       "      <td>2.0</td>\n",
       "      <td>3</td>\n",
       "      <td>1</td>\n",
       "      <td>349909</td>\n",
       "      <td>21.0750</td>\n",
       "      <td>30.7</td>\n",
       "      <td>S</td>\n",
       "    </tr>\n",
       "  </tbody>\n",
       "</table>\n",
       "</div>"
      ],
      "text/plain": [
       "   PassengerId  Survived  Pclass                            Name   Sex   Age  \\\n",
       "0            1         0       3         Braund, Mr. Owen Harris  male  22.0   \n",
       "1            5         0       3        Allen, Mr. William Henry  male  35.0   \n",
       "2            6         0       3                Moran, Mr. James  male  30.7   \n",
       "3            7         0       1         McCarthy, Mr. Timothy J  male  54.0   \n",
       "4            8         0       3  Palsson, Master. Gosta Leonard  male   2.0   \n",
       "\n",
       "   SibSp  Parch     Ticket     Fare Cabin Embarked  \n",
       "0      1      0  A/5 21171   7.2500  30.7        S  \n",
       "1      0      0     373450   8.0500  30.7        S  \n",
       "2      0      0     330877   8.4583  30.7        Q  \n",
       "3      0      0      17463  51.8625   E46        S  \n",
       "4      3      1     349909  21.0750  30.7        S  "
      ]
     },
     "execution_count": 156,
     "metadata": {},
     "output_type": "execute_result"
    }
   ],
   "source": [
    "df.head()"
   ]
  },
  {
   "cell_type": "code",
   "execution_count": 177,
   "id": "fbe73c18",
   "metadata": {},
   "outputs": [],
   "source": [
    "X = df.drop(['Survived', 'PassengerId', 'Name', 'Cabin', 'Ticket'],axis=1)\n"
   ]
  },
  {
   "cell_type": "code",
   "execution_count": 178,
   "id": "23d39b6b",
   "metadata": {},
   "outputs": [],
   "source": [
    "X = pd.get_dummies(X,drop_first=True)"
   ]
  },
  {
   "cell_type": "code",
   "execution_count": 185,
   "id": "2d1dd0e4",
   "metadata": {},
   "outputs": [],
   "source": [
    "y = df.Survived"
   ]
  },
  {
   "cell_type": "code",
   "execution_count": 187,
   "id": "4bb27861",
   "metadata": {},
   "outputs": [
    {
     "data": {
      "text/plain": [
       "0    549\n",
       "1    340\n",
       "Name: Survived, dtype: int64"
      ]
     },
     "execution_count": 187,
     "metadata": {},
     "output_type": "execute_result"
    }
   ],
   "source": [
    "y.value_counts()"
   ]
  },
  {
   "cell_type": "code",
   "execution_count": 180,
   "id": "c39fa2ff",
   "metadata": {},
   "outputs": [
    {
     "data": {
      "text/html": [
       "<div>\n",
       "<style scoped>\n",
       "    .dataframe tbody tr th:only-of-type {\n",
       "        vertical-align: middle;\n",
       "    }\n",
       "\n",
       "    .dataframe tbody tr th {\n",
       "        vertical-align: top;\n",
       "    }\n",
       "\n",
       "    .dataframe thead th {\n",
       "        text-align: right;\n",
       "    }\n",
       "</style>\n",
       "<table border=\"1\" class=\"dataframe\">\n",
       "  <thead>\n",
       "    <tr style=\"text-align: right;\">\n",
       "      <th></th>\n",
       "      <th>Pclass</th>\n",
       "      <th>Age</th>\n",
       "      <th>SibSp</th>\n",
       "      <th>Parch</th>\n",
       "      <th>Fare</th>\n",
       "      <th>Sex_male</th>\n",
       "      <th>Embarked_Q</th>\n",
       "      <th>Embarked_S</th>\n",
       "    </tr>\n",
       "  </thead>\n",
       "  <tbody>\n",
       "    <tr>\n",
       "      <th>0</th>\n",
       "      <td>3</td>\n",
       "      <td>22.0</td>\n",
       "      <td>1</td>\n",
       "      <td>0</td>\n",
       "      <td>7.2500</td>\n",
       "      <td>1</td>\n",
       "      <td>0</td>\n",
       "      <td>1</td>\n",
       "    </tr>\n",
       "    <tr>\n",
       "      <th>1</th>\n",
       "      <td>3</td>\n",
       "      <td>35.0</td>\n",
       "      <td>0</td>\n",
       "      <td>0</td>\n",
       "      <td>8.0500</td>\n",
       "      <td>1</td>\n",
       "      <td>0</td>\n",
       "      <td>1</td>\n",
       "    </tr>\n",
       "    <tr>\n",
       "      <th>2</th>\n",
       "      <td>3</td>\n",
       "      <td>30.7</td>\n",
       "      <td>0</td>\n",
       "      <td>0</td>\n",
       "      <td>8.4583</td>\n",
       "      <td>1</td>\n",
       "      <td>1</td>\n",
       "      <td>0</td>\n",
       "    </tr>\n",
       "    <tr>\n",
       "      <th>3</th>\n",
       "      <td>1</td>\n",
       "      <td>54.0</td>\n",
       "      <td>0</td>\n",
       "      <td>0</td>\n",
       "      <td>51.8625</td>\n",
       "      <td>1</td>\n",
       "      <td>0</td>\n",
       "      <td>1</td>\n",
       "    </tr>\n",
       "    <tr>\n",
       "      <th>4</th>\n",
       "      <td>3</td>\n",
       "      <td>2.0</td>\n",
       "      <td>3</td>\n",
       "      <td>1</td>\n",
       "      <td>21.0750</td>\n",
       "      <td>1</td>\n",
       "      <td>0</td>\n",
       "      <td>1</td>\n",
       "    </tr>\n",
       "  </tbody>\n",
       "</table>\n",
       "</div>"
      ],
      "text/plain": [
       "   Pclass   Age  SibSp  Parch     Fare  Sex_male  Embarked_Q  Embarked_S\n",
       "0       3  22.0      1      0   7.2500         1           0           1\n",
       "1       3  35.0      0      0   8.0500         1           0           1\n",
       "2       3  30.7      0      0   8.4583         1           1           0\n",
       "3       1  54.0      0      0  51.8625         1           0           1\n",
       "4       3   2.0      3      1  21.0750         1           0           1"
      ]
     },
     "execution_count": 180,
     "metadata": {},
     "output_type": "execute_result"
    }
   ],
   "source": [
    "X.head()"
   ]
  },
  {
   "cell_type": "markdown",
   "id": "c0e3897e",
   "metadata": {},
   "source": [
    "# DecisionTreeClassifier"
   ]
  },
  {
   "cell_type": "code",
   "execution_count": 182,
   "id": "1f6fe819",
   "metadata": {},
   "outputs": [],
   "source": [
    "from sklearn.tree import DecisionTreeClassifier\n",
    "from sklearn.model_selection import cross_val_score\n",
    "from sklearn.model_selection import GridSearchCV, RandomizedSearchCV\n",
    "from sklearn.metrics import recall_score, precision_score,roc_curve,roc_auc_score,auc\n",
    "from sklearn.model_selection import train_test_split\n",
    "from sklearn.ensemble import RandomForestClassifier"
   ]
  },
  {
   "cell_type": "code",
   "execution_count": 197,
   "id": "4a049192",
   "metadata": {},
   "outputs": [],
   "source": [
    "X_train, X_test, y_train, y_test = train_test_split(X, y, test_size=0.3,random_state=42)"
   ]
  },
  {
   "cell_type": "code",
   "execution_count": 198,
   "id": "cac68943",
   "metadata": {},
   "outputs": [
    {
     "data": {
      "text/plain": [
       "(622, 8)"
      ]
     },
     "execution_count": 198,
     "metadata": {},
     "output_type": "execute_result"
    }
   ],
   "source": [
    "X_train.shape"
   ]
  },
  {
   "cell_type": "code",
   "execution_count": 211,
   "id": "ce0b47eb",
   "metadata": {},
   "outputs": [],
   "source": [
    "params_gs = {'criterion' : ['gini', 'entropy'], 'max_depth' : range(1,20)\n",
    "            ,'min_samples_split' : range(2,100,10),'min_samples_leaf' : range(1,100,10)}"
   ]
  },
  {
   "cell_type": "code",
   "execution_count": 212,
   "id": "d88696e3",
   "metadata": {},
   "outputs": [],
   "source": [
    "clf = DecisionTreeClassifier()"
   ]
  },
  {
   "cell_type": "code",
   "execution_count": 217,
   "id": "eff30044",
   "metadata": {},
   "outputs": [],
   "source": [
    "grid_search_cv_clf = GridSearchCV(clf, params_gs,cv=10)"
   ]
  },
  {
   "cell_type": "code",
   "execution_count": 220,
   "id": "32e58bb0",
   "metadata": {},
   "outputs": [
    {
     "name": "stdout",
     "output_type": "stream",
     "text": [
      "CPU times: user 1min 31s, sys: 444 ms, total: 1min 31s\n",
      "Wall time: 1min 32s\n"
     ]
    },
    {
     "data": {
      "text/plain": [
       "GridSearchCV(cv=10, estimator=DecisionTreeClassifier(),\n",
       "             param_grid={'criterion': ['gini', 'entropy'],\n",
       "                         'max_depth': range(1, 20),\n",
       "                         'min_samples_leaf': range(1, 100, 10),\n",
       "                         'min_samples_split': range(2, 100, 10)})"
      ]
     },
     "execution_count": 220,
     "metadata": {},
     "output_type": "execute_result"
    }
   ],
   "source": [
    "%%time\n",
    "grid_search_cv_clf.fit(X_train, y_train)"
   ]
  },
  {
   "cell_type": "code",
   "execution_count": 221,
   "id": "8afc39d7",
   "metadata": {},
   "outputs": [
    {
     "data": {
      "text/plain": [
       "{'criterion': 'entropy',\n",
       " 'max_depth': 4,\n",
       " 'min_samples_leaf': 1,\n",
       " 'min_samples_split': 2}"
      ]
     },
     "execution_count": 221,
     "metadata": {},
     "output_type": "execute_result"
    }
   ],
   "source": [
    "grid_search_cv_clf.best_params_"
   ]
  },
  {
   "cell_type": "code",
   "execution_count": 222,
   "id": "6f280324",
   "metadata": {},
   "outputs": [],
   "source": [
    "best_clf = grid_search_cv_clf.best_estimator_"
   ]
  },
  {
   "cell_type": "code",
   "execution_count": 223,
   "id": "b030b09b",
   "metadata": {},
   "outputs": [
    {
     "data": {
      "text/plain": [
       "0.8279742765273312"
      ]
     },
     "execution_count": 223,
     "metadata": {},
     "output_type": "execute_result"
    }
   ],
   "source": [
    "best_clf.score(X_train, y_train)"
   ]
  },
  {
   "cell_type": "code",
   "execution_count": 224,
   "id": "590a0747",
   "metadata": {},
   "outputs": [
    {
     "data": {
      "text/plain": [
       "0.8426966292134831"
      ]
     },
     "execution_count": 224,
     "metadata": {},
     "output_type": "execute_result"
    }
   ],
   "source": [
    "best_clf.score(X_test, y_test)"
   ]
  },
  {
   "cell_type": "code",
   "execution_count": 225,
   "id": "4d83ee01",
   "metadata": {},
   "outputs": [],
   "source": [
    "y_pred = best_clf.predict(X_test)"
   ]
  },
  {
   "cell_type": "code",
   "execution_count": 226,
   "id": "e2758613",
   "metadata": {},
   "outputs": [
    {
     "data": {
      "text/plain": [
       "0.6666666666666666"
      ]
     },
     "execution_count": 226,
     "metadata": {},
     "output_type": "execute_result"
    }
   ],
   "source": [
    "recall_score(y_test, y_pred)"
   ]
  },
  {
   "cell_type": "code",
   "execution_count": 227,
   "id": "18c6c3d0",
   "metadata": {},
   "outputs": [
    {
     "data": {
      "text/plain": [
       "0.9090909090909091"
      ]
     },
     "execution_count": 227,
     "metadata": {},
     "output_type": "execute_result"
    }
   ],
   "source": [
    "precision_score(y_test, y_pred)"
   ]
  },
  {
   "cell_type": "code",
   "execution_count": 228,
   "id": "c39433c3",
   "metadata": {},
   "outputs": [],
   "source": [
    "y_pred_prob = best_clf.predict_proba(X_test)"
   ]
  },
  {
   "cell_type": "code",
   "execution_count": 229,
   "id": "426ef0bf",
   "metadata": {},
   "outputs": [
    {
     "data": {
      "text/plain": [
       "array([[0.71851852, 0.28148148],\n",
       "       [0.86187845, 0.13812155],\n",
       "       [0.71851852, 0.28148148],\n",
       "       [0.71851852, 0.28148148],\n",
       "       [0.52941176, 0.47058824],\n",
       "       [0.28947368, 0.71052632],\n",
       "       [0.71851852, 0.28148148],\n",
       "       [0.        , 1.        ],\n",
       "       [0.52941176, 0.47058824],\n",
       "       [0.71851852, 0.28148148],\n",
       "       [0.10416667, 0.89583333],\n",
       "       [0.71851852, 0.28148148],\n",
       "       [1.        , 0.        ],\n",
       "       [0.71851852, 0.28148148],\n",
       "       [0.28947368, 0.71052632],\n",
       "       [0.86187845, 0.13812155],\n",
       "       [0.86187845, 0.13812155],\n",
       "       [0.95      , 0.05      ],\n",
       "       [0.28947368, 0.71052632],\n",
       "       [0.52941176, 0.47058824],\n",
       "       [0.86187845, 0.13812155],\n",
       "       [0.71851852, 0.28148148],\n",
       "       [0.        , 1.        ],\n",
       "       [0.86187845, 0.13812155],\n",
       "       [0.28947368, 0.71052632],\n",
       "       [1.        , 0.        ],\n",
       "       [0.86187845, 0.13812155],\n",
       "       [0.95      , 0.05      ],\n",
       "       [0.52941176, 0.47058824],\n",
       "       [0.28947368, 0.71052632],\n",
       "       [0.71851852, 0.28148148],\n",
       "       [0.86187845, 0.13812155],\n",
       "       [0.71851852, 0.28148148],\n",
       "       [0.52941176, 0.47058824],\n",
       "       [0.71851852, 0.28148148],\n",
       "       [0.71851852, 0.28148148],\n",
       "       [0.71851852, 0.28148148],\n",
       "       [1.        , 0.        ],\n",
       "       [1.        , 0.        ],\n",
       "       [0.        , 1.        ],\n",
       "       [0.86187845, 0.13812155],\n",
       "       [0.10416667, 0.89583333],\n",
       "       [0.52941176, 0.47058824],\n",
       "       [0.        , 1.        ],\n",
       "       [0.95      , 0.05      ],\n",
       "       [0.86187845, 0.13812155],\n",
       "       [0.86187845, 0.13812155],\n",
       "       [0.71851852, 0.28148148],\n",
       "       [0.28947368, 0.71052632],\n",
       "       [0.86187845, 0.13812155],\n",
       "       [1.        , 0.        ],\n",
       "       [0.86187845, 0.13812155],\n",
       "       [0.71851852, 0.28148148],\n",
       "       [0.86187845, 0.13812155],\n",
       "       [0.95      , 0.05      ],\n",
       "       [0.71851852, 0.28148148],\n",
       "       [0.86187845, 0.13812155],\n",
       "       [0.86187845, 0.13812155],\n",
       "       [0.86187845, 0.13812155],\n",
       "       [0.86187845, 0.13812155],\n",
       "       [0.95      , 0.05      ],\n",
       "       [0.71851852, 0.28148148],\n",
       "       [0.86187845, 0.13812155],\n",
       "       [0.86187845, 0.13812155],\n",
       "       [0.        , 1.        ],\n",
       "       [0.71851852, 0.28148148],\n",
       "       [0.71851852, 0.28148148],\n",
       "       [1.        , 0.        ],\n",
       "       [0.10416667, 0.89583333],\n",
       "       [0.86187845, 0.13812155],\n",
       "       [0.10416667, 0.89583333],\n",
       "       [0.71851852, 0.28148148],\n",
       "       [0.86187845, 0.13812155],\n",
       "       [0.        , 1.        ],\n",
       "       [0.86187845, 0.13812155],\n",
       "       [0.95      , 0.05      ],\n",
       "       [0.86187845, 0.13812155],\n",
       "       [0.52941176, 0.47058824],\n",
       "       [0.95      , 0.05      ],\n",
       "       [0.10416667, 0.89583333],\n",
       "       [0.71851852, 0.28148148],\n",
       "       [0.        , 1.        ],\n",
       "       [0.71851852, 0.28148148],\n",
       "       [0.86187845, 0.13812155],\n",
       "       [0.71851852, 0.28148148],\n",
       "       [0.28947368, 0.71052632],\n",
       "       [0.        , 1.        ],\n",
       "       [0.10416667, 0.89583333],\n",
       "       [0.        , 1.        ],\n",
       "       [0.71851852, 0.28148148],\n",
       "       [1.        , 0.        ],\n",
       "       [0.71851852, 0.28148148],\n",
       "       [0.71851852, 0.28148148],\n",
       "       [0.        , 1.        ],\n",
       "       [0.28947368, 0.71052632],\n",
       "       [0.71851852, 0.28148148],\n",
       "       [0.86187845, 0.13812155],\n",
       "       [0.        , 1.        ],\n",
       "       [0.        , 1.        ],\n",
       "       [0.95      , 0.05      ],\n",
       "       [0.        , 1.        ],\n",
       "       [0.        , 1.        ],\n",
       "       [0.10416667, 0.89583333],\n",
       "       [0.10416667, 0.89583333],\n",
       "       [0.86187845, 0.13812155],\n",
       "       [0.        , 1.        ],\n",
       "       [0.95      , 0.05      ],\n",
       "       [0.        , 1.        ],\n",
       "       [1.        , 0.        ],\n",
       "       [0.52941176, 0.47058824],\n",
       "       [0.        , 1.        ],\n",
       "       [0.95      , 0.05      ],\n",
       "       [0.86187845, 0.13812155],\n",
       "       [0.86187845, 0.13812155],\n",
       "       [0.86187845, 0.13812155],\n",
       "       [0.71851852, 0.28148148],\n",
       "       [0.71851852, 0.28148148],\n",
       "       [0.71851852, 0.28148148],\n",
       "       [0.86187845, 0.13812155],\n",
       "       [0.95      , 0.05      ],\n",
       "       [0.71851852, 0.28148148],\n",
       "       [0.        , 1.        ],\n",
       "       [0.        , 1.        ],\n",
       "       [0.        , 1.        ],\n",
       "       [0.95      , 0.05      ],\n",
       "       [0.28947368, 0.71052632],\n",
       "       [0.95      , 0.05      ],\n",
       "       [0.86187845, 0.13812155],\n",
       "       [0.86187845, 0.13812155],\n",
       "       [0.        , 1.        ],\n",
       "       [0.86187845, 0.13812155],\n",
       "       [1.        , 0.        ],\n",
       "       [0.28947368, 0.71052632],\n",
       "       [0.10416667, 0.89583333],\n",
       "       [0.86187845, 0.13812155],\n",
       "       [0.        , 1.        ],\n",
       "       [0.        , 1.        ],\n",
       "       [0.71851852, 0.28148148],\n",
       "       [0.71851852, 0.28148148],\n",
       "       [0.        , 1.        ],\n",
       "       [0.86187845, 0.13812155],\n",
       "       [1.        , 0.        ],\n",
       "       [0.71851852, 0.28148148],\n",
       "       [0.        , 1.        ],\n",
       "       [0.86187845, 0.13812155],\n",
       "       [0.95      , 0.05      ],\n",
       "       [1.        , 0.        ],\n",
       "       [0.86187845, 0.13812155],\n",
       "       [0.        , 1.        ],\n",
       "       [0.86187845, 0.13812155],\n",
       "       [0.71851852, 0.28148148],\n",
       "       [0.95      , 0.05      ],\n",
       "       [0.71851852, 0.28148148],\n",
       "       [0.71851852, 0.28148148],\n",
       "       [1.        , 0.        ],\n",
       "       [1.        , 0.        ],\n",
       "       [0.95      , 0.05      ],\n",
       "       [0.10416667, 0.89583333],\n",
       "       [0.10416667, 0.89583333],\n",
       "       [0.86187845, 0.13812155],\n",
       "       [0.71851852, 0.28148148],\n",
       "       [0.        , 1.        ],\n",
       "       [0.52941176, 0.47058824],\n",
       "       [0.86187845, 0.13812155],\n",
       "       [0.71851852, 0.28148148],\n",
       "       [0.71851852, 0.28148148],\n",
       "       [0.71851852, 0.28148148],\n",
       "       [0.71851852, 0.28148148],\n",
       "       [0.86187845, 0.13812155],\n",
       "       [0.95      , 0.05      ],\n",
       "       [0.86187845, 0.13812155],\n",
       "       [0.86187845, 0.13812155],\n",
       "       [0.52941176, 0.47058824],\n",
       "       [0.71851852, 0.28148148],\n",
       "       [0.        , 1.        ],\n",
       "       [1.        , 0.        ],\n",
       "       [0.86187845, 0.13812155],\n",
       "       [0.95      , 0.05      ],\n",
       "       [0.52941176, 0.47058824],\n",
       "       [1.        , 0.        ],\n",
       "       [0.71851852, 0.28148148],\n",
       "       [0.        , 1.        ],\n",
       "       [0.        , 1.        ],\n",
       "       [0.86187845, 0.13812155],\n",
       "       [0.95      , 0.05      ],\n",
       "       [0.86187845, 0.13812155],\n",
       "       [0.86187845, 0.13812155],\n",
       "       [0.71851852, 0.28148148],\n",
       "       [0.86187845, 0.13812155],\n",
       "       [0.28947368, 0.71052632],\n",
       "       [1.        , 0.        ],\n",
       "       [0.71851852, 0.28148148],\n",
       "       [0.95      , 0.05      ],\n",
       "       [0.        , 1.        ],\n",
       "       [0.95      , 0.05      ],\n",
       "       [0.71851852, 0.28148148],\n",
       "       [0.71851852, 0.28148148],\n",
       "       [1.        , 0.        ],\n",
       "       [0.10416667, 0.89583333],\n",
       "       [0.86187845, 0.13812155],\n",
       "       [0.86187845, 0.13812155],\n",
       "       [0.95      , 0.05      ],\n",
       "       [0.86187845, 0.13812155],\n",
       "       [0.        , 1.        ],\n",
       "       [0.95      , 0.05      ],\n",
       "       [0.28947368, 0.71052632],\n",
       "       [0.10416667, 0.89583333],\n",
       "       [0.86187845, 0.13812155],\n",
       "       [0.71851852, 0.28148148],\n",
       "       [0.10416667, 0.89583333],\n",
       "       [0.        , 1.        ],\n",
       "       [0.86187845, 0.13812155],\n",
       "       [0.71851852, 0.28148148],\n",
       "       [0.10416667, 0.89583333],\n",
       "       [1.        , 0.        ],\n",
       "       [0.86187845, 0.13812155],\n",
       "       [0.71851852, 0.28148148],\n",
       "       [0.        , 1.        ],\n",
       "       [0.86187845, 0.13812155],\n",
       "       [0.86187845, 0.13812155],\n",
       "       [0.71851852, 0.28148148],\n",
       "       [0.71851852, 0.28148148],\n",
       "       [0.10416667, 0.89583333],\n",
       "       [0.86187845, 0.13812155],\n",
       "       [0.86187845, 0.13812155],\n",
       "       [1.        , 0.        ],\n",
       "       [0.86187845, 0.13812155],\n",
       "       [0.28947368, 0.71052632],\n",
       "       [0.86187845, 0.13812155],\n",
       "       [0.86187845, 0.13812155],\n",
       "       [0.86187845, 0.13812155],\n",
       "       [0.86187845, 0.13812155],\n",
       "       [0.10416667, 0.89583333],\n",
       "       [0.86187845, 0.13812155],\n",
       "       [0.86187845, 0.13812155],\n",
       "       [0.        , 1.        ],\n",
       "       [1.        , 0.        ],\n",
       "       [0.86187845, 0.13812155],\n",
       "       [0.10416667, 0.89583333],\n",
       "       [0.        , 1.        ],\n",
       "       [0.86187845, 0.13812155],\n",
       "       [0.86187845, 0.13812155],\n",
       "       [0.28947368, 0.71052632],\n",
       "       [0.86187845, 0.13812155],\n",
       "       [0.71851852, 0.28148148],\n",
       "       [0.28947368, 0.71052632],\n",
       "       [0.        , 1.        ],\n",
       "       [0.        , 1.        ],\n",
       "       [0.95      , 0.05      ],\n",
       "       [0.86187845, 0.13812155],\n",
       "       [0.86187845, 0.13812155],\n",
       "       [0.10416667, 0.89583333],\n",
       "       [0.71851852, 0.28148148],\n",
       "       [0.        , 1.        ],\n",
       "       [0.28947368, 0.71052632],\n",
       "       [0.        , 1.        ],\n",
       "       [0.86187845, 0.13812155],\n",
       "       [0.86187845, 0.13812155],\n",
       "       [0.86187845, 0.13812155],\n",
       "       [0.86187845, 0.13812155],\n",
       "       [0.86187845, 0.13812155],\n",
       "       [0.95      , 0.05      ],\n",
       "       [0.71851852, 0.28148148],\n",
       "       [0.        , 1.        ],\n",
       "       [0.10416667, 0.89583333],\n",
       "       [0.52941176, 0.47058824],\n",
       "       [0.86187845, 0.13812155]])"
      ]
     },
     "execution_count": 229,
     "metadata": {},
     "output_type": "execute_result"
    }
   ],
   "source": [
    "y_pred_prob"
   ]
  },
  {
   "cell_type": "code",
   "execution_count": 232,
   "id": "47eb57f7",
   "metadata": {},
   "outputs": [
    {
     "data": {
      "text/plain": [
       "array([0.28148148, 0.13812155, 0.28148148, 0.28148148, 0.47058824,\n",
       "       0.71052632, 0.28148148, 1.        , 0.47058824, 0.28148148,\n",
       "       0.89583333, 0.28148148, 0.        , 0.28148148, 0.71052632,\n",
       "       0.13812155, 0.13812155, 0.05      , 0.71052632, 0.47058824,\n",
       "       0.13812155, 0.28148148, 1.        , 0.13812155, 0.71052632,\n",
       "       0.        , 0.13812155, 0.05      , 0.47058824, 0.71052632,\n",
       "       0.28148148, 0.13812155, 0.28148148, 0.47058824, 0.28148148,\n",
       "       0.28148148, 0.28148148, 0.        , 0.        , 1.        ,\n",
       "       0.13812155, 0.89583333, 0.47058824, 1.        , 0.05      ,\n",
       "       0.13812155, 0.13812155, 0.28148148, 0.71052632, 0.13812155,\n",
       "       0.        , 0.13812155, 0.28148148, 0.13812155, 0.05      ,\n",
       "       0.28148148, 0.13812155, 0.13812155, 0.13812155, 0.13812155,\n",
       "       0.05      , 0.28148148, 0.13812155, 0.13812155, 1.        ,\n",
       "       0.28148148, 0.28148148, 0.        , 0.89583333, 0.13812155,\n",
       "       0.89583333, 0.28148148, 0.13812155, 1.        , 0.13812155,\n",
       "       0.05      , 0.13812155, 0.47058824, 0.05      , 0.89583333,\n",
       "       0.28148148, 1.        , 0.28148148, 0.13812155, 0.28148148,\n",
       "       0.71052632, 1.        , 0.89583333, 1.        , 0.28148148,\n",
       "       0.        , 0.28148148, 0.28148148, 1.        , 0.71052632,\n",
       "       0.28148148, 0.13812155, 1.        , 1.        , 0.05      ,\n",
       "       1.        , 1.        , 0.89583333, 0.89583333, 0.13812155,\n",
       "       1.        , 0.05      , 1.        , 0.        , 0.47058824,\n",
       "       1.        , 0.05      , 0.13812155, 0.13812155, 0.13812155,\n",
       "       0.28148148, 0.28148148, 0.28148148, 0.13812155, 0.05      ,\n",
       "       0.28148148, 1.        , 1.        , 1.        , 0.05      ,\n",
       "       0.71052632, 0.05      , 0.13812155, 0.13812155, 1.        ,\n",
       "       0.13812155, 0.        , 0.71052632, 0.89583333, 0.13812155,\n",
       "       1.        , 1.        , 0.28148148, 0.28148148, 1.        ,\n",
       "       0.13812155, 0.        , 0.28148148, 1.        , 0.13812155,\n",
       "       0.05      , 0.        , 0.13812155, 1.        , 0.13812155,\n",
       "       0.28148148, 0.05      , 0.28148148, 0.28148148, 0.        ,\n",
       "       0.        , 0.05      , 0.89583333, 0.89583333, 0.13812155,\n",
       "       0.28148148, 1.        , 0.47058824, 0.13812155, 0.28148148,\n",
       "       0.28148148, 0.28148148, 0.28148148, 0.13812155, 0.05      ,\n",
       "       0.13812155, 0.13812155, 0.47058824, 0.28148148, 1.        ,\n",
       "       0.        , 0.13812155, 0.05      , 0.47058824, 0.        ,\n",
       "       0.28148148, 1.        , 1.        , 0.13812155, 0.05      ,\n",
       "       0.13812155, 0.13812155, 0.28148148, 0.13812155, 0.71052632,\n",
       "       0.        , 0.28148148, 0.05      , 1.        , 0.05      ,\n",
       "       0.28148148, 0.28148148, 0.        , 0.89583333, 0.13812155,\n",
       "       0.13812155, 0.05      , 0.13812155, 1.        , 0.05      ,\n",
       "       0.71052632, 0.89583333, 0.13812155, 0.28148148, 0.89583333,\n",
       "       1.        , 0.13812155, 0.28148148, 0.89583333, 0.        ,\n",
       "       0.13812155, 0.28148148, 1.        , 0.13812155, 0.13812155,\n",
       "       0.28148148, 0.28148148, 0.89583333, 0.13812155, 0.13812155,\n",
       "       0.        , 0.13812155, 0.71052632, 0.13812155, 0.13812155,\n",
       "       0.13812155, 0.13812155, 0.89583333, 0.13812155, 0.13812155,\n",
       "       1.        , 0.        , 0.13812155, 0.89583333, 1.        ,\n",
       "       0.13812155, 0.13812155, 0.71052632, 0.13812155, 0.28148148,\n",
       "       0.71052632, 1.        , 1.        , 0.05      , 0.13812155,\n",
       "       0.13812155, 0.89583333, 0.28148148, 1.        , 0.71052632,\n",
       "       1.        , 0.13812155, 0.13812155, 0.13812155, 0.13812155,\n",
       "       0.13812155, 0.05      , 0.28148148, 1.        , 0.89583333,\n",
       "       0.47058824, 0.13812155])"
      ]
     },
     "execution_count": 232,
     "metadata": {},
     "output_type": "execute_result"
    }
   ],
   "source": [
    "y_pred_prob[:,1]"
   ]
  },
  {
   "cell_type": "code",
   "execution_count": 233,
   "id": "fced4c58",
   "metadata": {},
   "outputs": [
    {
     "data": {
      "text/plain": [
       "array([0.28148148, 0.13812155, 0.47058824, 0.71052632, 1.        ,\n",
       "       0.89583333, 0.        , 0.05      ])"
      ]
     },
     "execution_count": 233,
     "metadata": {},
     "output_type": "execute_result"
    }
   ],
   "source": [
    "pd.Series(y_pred_prob[:,1]).unique()"
   ]
  },
  {
   "cell_type": "code",
   "execution_count": 234,
   "id": "bbe55508",
   "metadata": {},
   "outputs": [
    {
     "data": {
      "text/plain": [
       "<AxesSubplot:>"
      ]
     },
     "execution_count": 234,
     "metadata": {},
     "output_type": "execute_result"
    },
    {
     "data": {
      "image/png": "[encoded data removed]",
      "text/plain": [
       "<Figure size 432x288 with 1 Axes>"
      ]
     },
     "metadata": {
      "needs_background": "light"
     },
     "output_type": "display_data"
    }
   ],
   "source": [
    "pd.Series(y_pred_prob[:,1]).hist()"
   ]
  },
  {
   "cell_type": "code",
   "execution_count": null,
   "id": "505a1176",
   "metadata": {},
   "outputs": [],
   "source": []
  },
  {
   "cell_type": "code",
   "execution_count": 239,
   "id": "d20f56b1",
   "metadata": {},
   "outputs": [],
   "source": [
    "y_pred = np.where(y_pred_prob[:,1] > 0.2, 1, 0)"
   ]
  },
  {
   "cell_type": "code",
   "execution_count": 238,
   "id": "070e8454",
   "metadata": {},
   "outputs": [
    {
     "data": {
      "text/plain": [
       "<AxesSubplot:>"
      ]
     },
     "execution_count": 238,
     "metadata": {},
     "output_type": "execute_result"
    },
    {
     "data": {
      "image/png": "[encoded data removed]",
      "text/plain": [
       "<Figure size 432x288 with 1 Axes>"
      ]
     },
     "metadata": {
      "needs_background": "light"
     },
     "output_type": "display_data"
    }
   ],
   "source": [
    "pd.Series(y_pred_prob[:,1]).hist()"
   ]
  },
  {
   "cell_type": "code",
   "execution_count": 241,
   "id": "96cc75b6",
   "metadata": {},
   "outputs": [
    {
     "data": {
      "text/plain": [
       "0.8857142857142857"
      ]
     },
     "execution_count": 241,
     "metadata": {},
     "output_type": "execute_result"
    }
   ],
   "source": [
    "recall_score(y_test, y_pred)"
   ]
  },
  {
   "cell_type": "code",
   "execution_count": 242,
   "id": "21c67311",
   "metadata": {},
   "outputs": [
    {
     "data": {
      "text/plain": [
       "0.6413793103448275"
      ]
     },
     "execution_count": 242,
     "metadata": {},
     "output_type": "execute_result"
    }
   ],
   "source": [
    "precision_score(y_test, y_pred)"
   ]
  },
  {
   "cell_type": "code",
   "execution_count": 243,
   "id": "d95d3529",
   "metadata": {},
   "outputs": [],
   "source": [
    "y_pred = np.where(y_pred_prob[:,1] > 0.8, 1, 0)"
   ]
  },
  {
   "cell_type": "code",
   "execution_count": 244,
   "id": "423fa598",
   "metadata": {},
   "outputs": [
    {
     "data": {
      "text/plain": [
       "0.5619047619047619"
      ]
     },
     "execution_count": 244,
     "metadata": {},
     "output_type": "execute_result"
    }
   ],
   "source": [
    "recall_score(y_test, y_pred)"
   ]
  },
  {
   "cell_type": "code",
   "execution_count": 245,
   "id": "23b4f049",
   "metadata": {},
   "outputs": [
    {
     "data": {
      "text/plain": [
       "0.9672131147540983"
      ]
     },
     "execution_count": 245,
     "metadata": {},
     "output_type": "execute_result"
    }
   ],
   "source": [
    "precision_score(y_test, y_pred)"
   ]
  },
  {
   "cell_type": "code",
   "execution_count": null,
   "id": "42321069",
   "metadata": {},
   "outputs": [],
   "source": []
  },
  {
   "cell_type": "code",
   "execution_count": 246,
   "id": "2e02e874",
   "metadata": {},
   "outputs": [
    {
     "data": {
      "image/png": "[encoded data removed]",
      "text/plain": [
       "<Figure size 432x288 with 1 Axes>"
      ]
     },
     "metadata": {
      "needs_background": "light"
     },
     "output_type": "display_data"
    }
   ],
   "source": [
    "from sklearn.metrics import roc_curve, auc\n",
    "fpr, tpr, thresholds = roc_curve(y_test, y_pred_prob[:,1])\n",
    "roc_auc= auc(fpr, tpr)\n",
    "plt.figure()\n",
    "plt.plot(fpr, tpr, color='darkorange',\n",
    "          label='ROC curve (area = %0.2f)' % roc_auc)\n",
    "plt.plot([0, 1], [0, 1], color='navy',  linestyle='--')\n",
    "plt.xlim([0.0, 1.0])\n",
    "plt.ylim([0.0, 1.05])\n",
    "plt.xlabel('False Positive Rate')\n",
    "plt.ylabel('True Positive Rate')\n",
    "plt.title('Receiver operating characteristic example')\n",
    "plt.legend(loc=\"lower right\")\n",
    "plt.show()"
   ]
  },
  {
   "cell_type": "code",
   "execution_count": 248,
   "id": "7d28fb3b",
   "metadata": {},
   "outputs": [],
   "source": [
    "params_randsearch = {'criterion' : ['gini', 'entropy']\n",
    "                    ,'max_depth' : range(1,20), 'min_samples_split' : range(2,100)\n",
    "                    , 'min_samples_leaf' : range(1,100)}"
   ]
  },
  {
   "cell_type": "code",
   "execution_count": 249,
   "id": "2ee81fd1",
   "metadata": {},
   "outputs": [],
   "source": [
    "random_search_cv_clf = RandomizedSearchCV(clf, params_randsearch, cv=10)"
   ]
  },
  {
   "cell_type": "code",
   "execution_count": 250,
   "id": "a7a7532a",
   "metadata": {},
   "outputs": [
    {
     "data": {
      "text/plain": [
       "RandomizedSearchCV(cv=10, estimator=DecisionTreeClassifier(),\n",
       "                   param_distributions={'criterion': ['gini', 'entropy'],\n",
       "                                        'max_depth': range(1, 20),\n",
       "                                        'min_samples_leaf': range(1, 100),\n",
       "                                        'min_samples_split': range(2, 100)})"
      ]
     },
     "execution_count": 250,
     "metadata": {},
     "output_type": "execute_result"
    }
   ],
   "source": [
    "random_search_cv_clf.fit(X_train, y_train)"
   ]
  },
  {
   "cell_type": "code",
   "execution_count": 251,
   "id": "6c728f77",
   "metadata": {},
   "outputs": [],
   "source": [
    "best_clf_rm = random_search_cv_clf.best_estimator_"
   ]
  },
  {
   "cell_type": "raw",
   "id": "47ca61ca",
   "metadata": {},
   "source": []
  },
  {
   "cell_type": "code",
   "execution_count": 255,
   "id": "5740b30b",
   "metadata": {},
   "outputs": [
    {
     "data": {
      "text/plain": [
       "{'min_samples_split': 81,\n",
       " 'min_samples_leaf': 34,\n",
       " 'max_depth': 10,\n",
       " 'criterion': 'entropy'}"
      ]
     },
     "execution_count": 255,
     "metadata": {},
     "output_type": "execute_result"
    }
   ],
   "source": [
    "random_search_cv_clf.best_params_"
   ]
  },
  {
   "cell_type": "code",
   "execution_count": 252,
   "id": "c232a547",
   "metadata": {},
   "outputs": [
    {
     "data": {
      "text/plain": [
       "0.8070739549839229"
      ]
     },
     "execution_count": 252,
     "metadata": {},
     "output_type": "execute_result"
    }
   ],
   "source": [
    "best_clf_rm.score(X_train, y_train)"
   ]
  },
  {
   "cell_type": "code",
   "execution_count": 253,
   "id": "03f47a66",
   "metadata": {},
   "outputs": [
    {
     "data": {
      "text/plain": [
       "0.8052434456928839"
      ]
     },
     "execution_count": 253,
     "metadata": {},
     "output_type": "execute_result"
    }
   ],
   "source": [
    "best_clf_rm.score(X_test, y_test)"
   ]
  },
  {
   "cell_type": "code",
   "execution_count": 256,
   "id": "abab92e9",
   "metadata": {},
   "outputs": [],
   "source": [
    "y_pred = best_clf_rm.predict(X_test)"
   ]
  },
  {
   "cell_type": "code",
   "execution_count": 257,
   "id": "38ed86a1",
   "metadata": {},
   "outputs": [
    {
     "data": {
      "text/plain": [
       "0.5428571428571428"
      ]
     },
     "execution_count": 257,
     "metadata": {},
     "output_type": "execute_result"
    }
   ],
   "source": [
    "recall_score(y_test, y_pred)"
   ]
  },
  {
   "cell_type": "code",
   "execution_count": 258,
   "id": "f0f7fd93",
   "metadata": {},
   "outputs": [
    {
     "data": {
      "text/plain": [
       "0.9344262295081968"
      ]
     },
     "execution_count": 258,
     "metadata": {},
     "output_type": "execute_result"
    }
   ],
   "source": [
    "precision_score(y_test, y_pred)"
   ]
  },
  {
   "cell_type": "code",
   "execution_count": 260,
   "id": "384399dc",
   "metadata": {},
   "outputs": [
    {
     "data": {
      "image/png": "[encoded data removed]",
      "text/plain": [
       "<Figure size 432x288 with 1 Axes>"
      ]
     },
     "metadata": {
      "needs_background": "light"
     },
     "output_type": "display_data"
    }
   ],
   "source": [
    "from sklearn.metrics import roc_curve, auc\n",
    "fpr, tpr, thresholds = roc_curve(y_test, y_pred_prob[:,1])\n",
    "roc_auc= auc(fpr, tpr)\n",
    "plt.figure()\n",
    "plt.plot(fpr, tpr, color='darkorange',\n",
    "          label='ROC curve (area = %0.2f)' % roc_auc)\n",
    "plt.plot([0, 1], [0, 1], color='navy',  linestyle='--')\n",
    "plt.xlim([0.0, 1.0])\n",
    "plt.ylim([0.0, 1.05])\n",
    "plt.xlabel('False Positive Rate')\n",
    "plt.ylabel('True Positive Rate')\n",
    "plt.title('Receiver operating characteristic example')\n",
    "plt.legend(loc=\"lower right\")\n",
    "plt.show()"
   ]
  },
  {
   "cell_type": "code",
   "execution_count": null,
   "id": "85a25cf0",
   "metadata": {},
   "outputs": [],
   "source": []
  },
  {
   "cell_type": "markdown",
   "id": "d46cdbf9",
   "metadata": {},
   "source": [
    "# RandomForestClassifier"
   ]
  },
  {
   "cell_type": "code",
   "execution_count": 259,
   "id": "8cfe0b9e",
   "metadata": {},
   "outputs": [],
   "source": [
    "rdm_clf = RandomForestClassifier()"
   ]
  },
  {
   "cell_type": "code",
   "execution_count": 261,
   "id": "fb45d1c0",
   "metadata": {},
   "outputs": [],
   "source": [
    "grid_search_cv_rdm_clf = GridSearchCV(clf, params_gs,cv=10)"
   ]
  },
  {
   "cell_type": "code",
   "execution_count": 262,
   "id": "2ed73fa0",
   "metadata": {},
   "outputs": [
    {
     "data": {
      "text/plain": [
       "GridSearchCV(cv=10, estimator=DecisionTreeClassifier(),\n",
       "             param_grid={'criterion': ['gini', 'entropy'],\n",
       "                         'max_depth': range(1, 20),\n",
       "                         'min_samples_leaf': range(1, 100, 10),\n",
       "                         'min_samples_split': range(2, 100, 10)})"
      ]
     },
     "execution_count": 262,
     "metadata": {},
     "output_type": "execute_result"
    }
   ],
   "source": [
    "grid_search_cv_rdm_clf.fit(X_train, y_train)"
   ]
  },
  {
   "cell_type": "code",
   "execution_count": 263,
   "id": "821d6db7",
   "metadata": {},
   "outputs": [
    {
     "data": {
      "text/plain": [
       "{'criterion': 'entropy',\n",
       " 'max_depth': 4,\n",
       " 'min_samples_leaf': 1,\n",
       " 'min_samples_split': 12}"
      ]
     },
     "execution_count": 263,
     "metadata": {},
     "output_type": "execute_result"
    }
   ],
   "source": [
    "grid_search_cv_rdm_clf.best_params_"
   ]
  },
  {
   "cell_type": "code",
   "execution_count": 264,
   "id": "b43e9e3a",
   "metadata": {},
   "outputs": [],
   "source": [
    "best_rdm_clf = grid_search_cv_rdm_clf.best_estimator_"
   ]
  },
  {
   "cell_type": "code",
   "execution_count": 265,
   "id": "14c3f511",
   "metadata": {},
   "outputs": [
    {
     "data": {
      "text/plain": [
       "0.8279742765273312"
      ]
     },
     "execution_count": 265,
     "metadata": {},
     "output_type": "execute_result"
    }
   ],
   "source": [
    "best_rdm_clf.score(X_train, y_train)"
   ]
  },
  {
   "cell_type": "code",
   "execution_count": 266,
   "id": "fe62dfe7",
   "metadata": {},
   "outputs": [
    {
     "data": {
      "text/plain": [
       "0.846441947565543"
      ]
     },
     "execution_count": 266,
     "metadata": {},
     "output_type": "execute_result"
    }
   ],
   "source": [
    "best_rdm_clf.score(X_test, y_test)"
   ]
  },
  {
   "cell_type": "code",
   "execution_count": 267,
   "id": "4d9ef91b",
   "metadata": {},
   "outputs": [],
   "source": [
    "y_pred = best_rdm_clf.predict(X_test)"
   ]
  },
  {
   "cell_type": "code",
   "execution_count": 271,
   "id": "8aae10be",
   "metadata": {},
   "outputs": [],
   "source": [
    "y_pred_prob = best_rdm_clf.predict_proba(X_test)"
   ]
  },
  {
   "cell_type": "code",
   "execution_count": 272,
   "id": "4cca609a",
   "metadata": {},
   "outputs": [
    {
     "data": {
      "text/plain": [
       "0.6761904761904762"
      ]
     },
     "execution_count": 272,
     "metadata": {},
     "output_type": "execute_result"
    }
   ],
   "source": [
    "recall_score(y_test, y_pred)"
   ]
  },
  {
   "cell_type": "code",
   "execution_count": 273,
   "id": "5fbb40c5",
   "metadata": {},
   "outputs": [
    {
     "data": {
      "text/plain": [
       "0.9102564102564102"
      ]
     },
     "execution_count": 273,
     "metadata": {},
     "output_type": "execute_result"
    }
   ],
   "source": [
    "precision_score(y_test, y_pred)"
   ]
  },
  {
   "cell_type": "code",
   "execution_count": 274,
   "id": "2778209c",
   "metadata": {},
   "outputs": [
    {
     "data": {
      "image/png": "[encoded data removed]",
      "text/plain": [
       "<Figure size 432x288 with 1 Axes>"
      ]
     },
     "metadata": {
      "needs_background": "light"
     },
     "output_type": "display_data"
    }
   ],
   "source": [
    "from sklearn.metrics import roc_curve, auc\n",
    "fpr, tpr, thresholds = roc_curve(y_test, y_pred_prob[:,1])\n",
    "roc_auc= auc(fpr, tpr)\n",
    "plt.figure()\n",
    "plt.plot(fpr, tpr, color='darkorange',\n",
    "          label='ROC curve (area = %0.2f)' % roc_auc)\n",
    "plt.plot([0, 1], [0, 1], color='navy',  linestyle='--')\n",
    "plt.xlim([0.0, 1.0])\n",
    "plt.ylim([0.0, 1.05])\n",
    "plt.xlabel('False Positive Rate')\n",
    "plt.ylabel('True Positive Rate')\n",
    "plt.title('Receiver operating characteristic example')\n",
    "plt.legend(loc=\"lower right\")\n",
    "plt.show()"
   ]
  },
  {
   "cell_type": "code",
   "execution_count": null,
   "id": "9151d18b",
   "metadata": {},
   "outputs": [],
   "source": []
  },
  {
   "cell_type": "code",
   "execution_count": 275,
   "id": "eae7162e",
   "metadata": {},
   "outputs": [],
   "source": [
    "feature_importance = best_rdm_clf.feature_importances_"
   ]
  },
  {
   "cell_type": "code",
   "execution_count": 276,
   "id": "047795d0",
   "metadata": {},
   "outputs": [
    {
     "data": {
      "text/plain": [
       "array([0.17976441, 0.12280624, 0.032059  , 0.00795899, 0.13581621,\n",
       "       0.50631445, 0.        , 0.0152807 ])"
      ]
     },
     "execution_count": 276,
     "metadata": {},
     "output_type": "execute_result"
    }
   ],
   "source": [
    "feature_importance"
   ]
  },
  {
   "cell_type": "code",
   "execution_count": 277,
   "id": "df45baa1",
   "metadata": {},
   "outputs": [],
   "source": [
    "feature_importance_df = pd.DataFrame({'features': list(X_train), 'feature_importance': feature_importance})"
   ]
  },
  {
   "cell_type": "code",
   "execution_count": 279,
   "id": "bc697945",
   "metadata": {},
   "outputs": [
    {
     "data": {
      "text/html": [
       "<div>\n",
       "<style scoped>\n",
       "    .dataframe tbody tr th:only-of-type {\n",
       "        vertical-align: middle;\n",
       "    }\n",
       "\n",
       "    .dataframe tbody tr th {\n",
       "        vertical-align: top;\n",
       "    }\n",
       "\n",
       "    .dataframe thead th {\n",
       "        text-align: right;\n",
       "    }\n",
       "</style>\n",
       "<table border=\"1\" class=\"dataframe\">\n",
       "  <thead>\n",
       "    <tr style=\"text-align: right;\">\n",
       "      <th></th>\n",
       "      <th>features</th>\n",
       "      <th>feature_importance</th>\n",
       "    </tr>\n",
       "  </thead>\n",
       "  <tbody>\n",
       "    <tr>\n",
       "      <th>5</th>\n",
       "      <td>Sex_male</td>\n",
       "      <td>0.506314</td>\n",
       "    </tr>\n",
       "    <tr>\n",
       "      <th>0</th>\n",
       "      <td>Pclass</td>\n",
       "      <td>0.179764</td>\n",
       "    </tr>\n",
       "    <tr>\n",
       "      <th>4</th>\n",
       "      <td>Fare</td>\n",
       "      <td>0.135816</td>\n",
       "    </tr>\n",
       "    <tr>\n",
       "      <th>1</th>\n",
       "      <td>Age</td>\n",
       "      <td>0.122806</td>\n",
       "    </tr>\n",
       "    <tr>\n",
       "      <th>2</th>\n",
       "      <td>SibSp</td>\n",
       "      <td>0.032059</td>\n",
       "    </tr>\n",
       "    <tr>\n",
       "      <th>7</th>\n",
       "      <td>Embarked_S</td>\n",
       "      <td>0.015281</td>\n",
       "    </tr>\n",
       "    <tr>\n",
       "      <th>3</th>\n",
       "      <td>Parch</td>\n",
       "      <td>0.007959</td>\n",
       "    </tr>\n",
       "    <tr>\n",
       "      <th>6</th>\n",
       "      <td>Embarked_Q</td>\n",
       "      <td>0.000000</td>\n",
       "    </tr>\n",
       "  </tbody>\n",
       "</table>\n",
       "</div>"
      ],
      "text/plain": [
       "     features  feature_importance\n",
       "5    Sex_male            0.506314\n",
       "0      Pclass            0.179764\n",
       "4        Fare            0.135816\n",
       "1         Age            0.122806\n",
       "2       SibSp            0.032059\n",
       "7  Embarked_S            0.015281\n",
       "3       Parch            0.007959\n",
       "6  Embarked_Q            0.000000"
      ]
     },
     "execution_count": 279,
     "metadata": {},
     "output_type": "execute_result"
    }
   ],
   "source": [
    "feature_importance_df.sort_values('feature_importance', ascending=False)"
   ]
  },
  {
   "cell_type": "code",
   "execution_count": null,
   "id": "510c6b87",
   "metadata": {},
   "outputs": [],
   "source": []
  }
 ],
 "metadata": {
  "kernelspec": {
   "display_name": "Python 3",
   "language": "python",
   "name": "python3"
  },
  "language_info": {
   "codemirror_mode": {
    "name": "ipython",
    "version": 3
   },
   "file_extension": ".py",
   "mimetype": "text/x-python",
   "name": "python",
   "nbconvert_exporter": "python",
   "pygments_lexer": "ipython3",
   "version": "3.8.8"
  }
 },
 "nbformat": 4,
 "nbformat_minor": 5
}
